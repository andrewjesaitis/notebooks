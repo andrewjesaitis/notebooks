{
 "cells": [
  {
   "cell_type": "code",
   "execution_count": 4,
   "metadata": {
    "collapsed": false
   },
   "outputs": [],
   "source": [
    "import pandas as pd\n",
    "import pandas_datareader.data as web\n",
    "import numpy as np\n",
    "import matplotlib\n",
    "import matplotlib.pyplot as plt\n",
    "import matplotlib.ticker as ticker\n",
    "import seaborn\n",
    "from datetime import datetime, timedelta\n",
    "\n",
    "%matplotlib inline\n",
    "\n",
    "# Parameters\n",
    "VOL_PERIOD = 13\n",
    "RETURN_PERIOD_1 = 63\n",
    "RETURN_PERIOD_2 = 126\n",
    "WEIGHTS = (.5,.3,.2)\n",
    "\n",
    "portfolio = {\n",
    "    'equity':(\"VTI\", \"VEU\", \"SHY\"), \n",
    "    'credit':(\"HYG\", \"CIU\", \"SHY\"), \n",
    "    'real estate':(\"REM\", \"VNQ\", \"SHY\"), \n",
    "    'stress':(\"GLD\", \"TLT\", \"SHY\")\n",
    "}"
   ]
  },
  {
   "cell_type": "code",
   "execution_count": 5,
   "metadata": {
    "collapsed": true
   },
   "outputs": [],
   "source": [
    "def overall_weight(row):\n",
    "    return WEIGHTS[0]*row['Period 1 Return Rank'] + WEIGHTS[1]*row['Period 2 Return Rank'] + WEIGHTS[2]*row['Std Dev Rank']\n",
    "\n",
    "def make_table(sym):\n",
    "    end = datetime.today()\n",
    "    lookback = 2 * max(RETURN_PERIOD_1, RETURN_PERIOD_2)\n",
    "    start = end - timedelta(lookback)\n",
    "    df = web.DataReader(sym, 'yahoo', start, end)\n",
    "    df.drop([\"Open\", \"High\", \"Low\", \"Close\", \"Volume\"], axis=1, inplace=True)\n",
    "    df['Std Dev'] = pd.rolling_std(df['Adj Close'], VOL_PERIOD)\n",
    "    df['Period 1 Return'] = df.pct_change(RETURN_PERIOD_1)['Adj Close']\n",
    "    df['Period 2 Return'] = df.pct_change(RETURN_PERIOD_2)['Adj Close']\n",
    "    return df\n",
    "\n",
    "def get_latest(sym):\n",
    "    df = make_table(sym).tail(1)\n",
    "    df.index = [sym]\n",
    "    return df\n",
    "\n",
    "def cluster_table(symbols):\n",
    "    dfs = map(get_latest, symbols)\n",
    "    cdf = pd.concat(dfs, axis=0)\n",
    "    cdf_r = cdf.rank('rows', ascending=False)[['Period 1 Return', 'Period 2 Return']]\n",
    "    cdf_r['Std Dev'] = cdf.rank('rows')[['Std Dev']]\n",
    "    df = pd.merge(cdf, cdf_r, left_index=True, right_index=True, how='inner', suffixes=('', ' Rank'))\n",
    "    overall_df = pd.DataFrame(df.apply(overall_weight, axis=1), columns=[\"Overall Weight Rank\"]).rank('rows')\n",
    "    df = pd.merge(df, overall_df, left_index=True, right_index=True, how='inner')\n",
    "    df = df.sort_index(axis=1)\n",
    "    df = df.sort_values('Overall Weight Rank')\n",
    "    return df\n",
    "    "
   ]
  },
  {
   "cell_type": "code",
   "execution_count": 6,
   "metadata": {
    "collapsed": false
   },
   "outputs": [
    {
     "data": {
      "text/html": [
       "<div>\n",
       "<table border=\"1\" class=\"dataframe\">\n",
       "  <thead>\n",
       "    <tr style=\"text-align: right;\">\n",
       "      <th></th>\n",
       "      <th>Adj Close</th>\n",
       "      <th>Overall Weight Rank</th>\n",
       "      <th>Period 1 Return</th>\n",
       "      <th>Period 1 Return Rank</th>\n",
       "      <th>Period 2 Return</th>\n",
       "      <th>Period 2 Return Rank</th>\n",
       "      <th>Std Dev</th>\n",
       "      <th>Std Dev Rank</th>\n",
       "    </tr>\n",
       "  </thead>\n",
       "  <tbody>\n",
       "    <tr>\n",
       "      <th>SHY</th>\n",
       "      <td>84.940002</td>\n",
       "      <td>1</td>\n",
       "      <td>0.002572</td>\n",
       "      <td>1</td>\n",
       "      <td>0.002927</td>\n",
       "      <td>1</td>\n",
       "      <td>0.062228</td>\n",
       "      <td>1</td>\n",
       "    </tr>\n",
       "    <tr>\n",
       "      <th>VTI</th>\n",
       "      <td>103.839996</td>\n",
       "      <td>2</td>\n",
       "      <td>-0.045291</td>\n",
       "      <td>2</td>\n",
       "      <td>-0.037055</td>\n",
       "      <td>2</td>\n",
       "      <td>2.492487</td>\n",
       "      <td>3</td>\n",
       "    </tr>\n",
       "    <tr>\n",
       "      <th>VEU</th>\n",
       "      <td>45.480000</td>\n",
       "      <td>3</td>\n",
       "      <td>-0.068741</td>\n",
       "      <td>3</td>\n",
       "      <td>-0.089516</td>\n",
       "      <td>3</td>\n",
       "      <td>1.465865</td>\n",
       "      <td>2</td>\n",
       "    </tr>\n",
       "  </tbody>\n",
       "</table>\n",
       "</div>"
      ],
      "text/plain": [
       "      Adj Close  Overall Weight Rank  Period 1 Return  Period 1 Return Rank  \\\n",
       "SHY   84.940002                    1         0.002572                     1   \n",
       "VTI  103.839996                    2        -0.045291                     2   \n",
       "VEU   45.480000                    3        -0.068741                     3   \n",
       "\n",
       "     Period 2 Return  Period 2 Return Rank   Std Dev  Std Dev Rank  \n",
       "SHY         0.002927                     1  0.062228             1  \n",
       "VTI        -0.037055                     2  2.492487             3  \n",
       "VEU        -0.089516                     3  1.465865             2  "
      ]
     },
     "execution_count": 6,
     "metadata": {},
     "output_type": "execute_result"
    }
   ],
   "source": [
    "# Equity Model\n",
    "cluster_table(portfolio['equity'])"
   ]
  },
  {
   "cell_type": "code",
   "execution_count": 7,
   "metadata": {
    "collapsed": false
   },
   "outputs": [
    {
     "data": {
      "text/html": [
       "<div>\n",
       "<table border=\"1\" class=\"dataframe\">\n",
       "  <thead>\n",
       "    <tr style=\"text-align: right;\">\n",
       "      <th></th>\n",
       "      <th>Adj Close</th>\n",
       "      <th>Overall Weight Rank</th>\n",
       "      <th>Period 1 Return</th>\n",
       "      <th>Period 1 Return Rank</th>\n",
       "      <th>Period 2 Return</th>\n",
       "      <th>Period 2 Return Rank</th>\n",
       "      <th>Std Dev</th>\n",
       "      <th>Std Dev Rank</th>\n",
       "    </tr>\n",
       "  </thead>\n",
       "  <tbody>\n",
       "    <tr>\n",
       "      <th>CIU</th>\n",
       "      <td>108.809998</td>\n",
       "      <td>1.5</td>\n",
       "      <td>0.009179</td>\n",
       "      <td>1</td>\n",
       "      <td>-0.005839</td>\n",
       "      <td>2</td>\n",
       "      <td>0.239379</td>\n",
       "      <td>2</td>\n",
       "    </tr>\n",
       "    <tr>\n",
       "      <th>SHY</th>\n",
       "      <td>84.940002</td>\n",
       "      <td>1.5</td>\n",
       "      <td>0.002572</td>\n",
       "      <td>2</td>\n",
       "      <td>0.002927</td>\n",
       "      <td>1</td>\n",
       "      <td>0.062228</td>\n",
       "      <td>1</td>\n",
       "    </tr>\n",
       "    <tr>\n",
       "      <th>HYG</th>\n",
       "      <td>84.949997</td>\n",
       "      <td>3.0</td>\n",
       "      <td>-0.029999</td>\n",
       "      <td>3</td>\n",
       "      <td>-0.042341</td>\n",
       "      <td>3</td>\n",
       "      <td>1.094338</td>\n",
       "      <td>3</td>\n",
       "    </tr>\n",
       "  </tbody>\n",
       "</table>\n",
       "</div>"
      ],
      "text/plain": [
       "      Adj Close  Overall Weight Rank  Period 1 Return  Period 1 Return Rank  \\\n",
       "CIU  108.809998                  1.5         0.009179                     1   \n",
       "SHY   84.940002                  1.5         0.002572                     2   \n",
       "HYG   84.949997                  3.0        -0.029999                     3   \n",
       "\n",
       "     Period 2 Return  Period 2 Return Rank   Std Dev  Std Dev Rank  \n",
       "CIU        -0.005839                     2  0.239379             2  \n",
       "SHY         0.002927                     1  0.062228             1  \n",
       "HYG        -0.042341                     3  1.094338             3  "
      ]
     },
     "execution_count": 7,
     "metadata": {},
     "output_type": "execute_result"
    }
   ],
   "source": [
    "# Credit Model\n",
    "cluster_table(portfolio['credit'])"
   ]
  },
  {
   "cell_type": "code",
   "execution_count": 8,
   "metadata": {
    "collapsed": false
   },
   "outputs": [
    {
     "data": {
      "text/html": [
       "<div>\n",
       "<table border=\"1\" class=\"dataframe\">\n",
       "  <thead>\n",
       "    <tr style=\"text-align: right;\">\n",
       "      <th></th>\n",
       "      <th>Adj Close</th>\n",
       "      <th>Overall Weight Rank</th>\n",
       "      <th>Period 1 Return</th>\n",
       "      <th>Period 1 Return Rank</th>\n",
       "      <th>Period 2 Return</th>\n",
       "      <th>Period 2 Return Rank</th>\n",
       "      <th>Std Dev</th>\n",
       "      <th>Std Dev Rank</th>\n",
       "    </tr>\n",
       "  </thead>\n",
       "  <tbody>\n",
       "    <tr>\n",
       "      <th>SHY</th>\n",
       "      <td>84.940002</td>\n",
       "      <td>1</td>\n",
       "      <td>0.002572</td>\n",
       "      <td>2</td>\n",
       "      <td>0.002927</td>\n",
       "      <td>1</td>\n",
       "      <td>0.062228</td>\n",
       "      <td>1</td>\n",
       "    </tr>\n",
       "    <tr>\n",
       "      <th>VNQ</th>\n",
       "      <td>79.550003</td>\n",
       "      <td>2</td>\n",
       "      <td>0.029669</td>\n",
       "      <td>1</td>\n",
       "      <td>-0.017344</td>\n",
       "      <td>2</td>\n",
       "      <td>1.843746</td>\n",
       "      <td>3</td>\n",
       "    </tr>\n",
       "    <tr>\n",
       "      <th>REM</th>\n",
       "      <td>10.410000</td>\n",
       "      <td>3</td>\n",
       "      <td>-0.019356</td>\n",
       "      <td>3</td>\n",
       "      <td>-0.075414</td>\n",
       "      <td>3</td>\n",
       "      <td>0.216362</td>\n",
       "      <td>2</td>\n",
       "    </tr>\n",
       "  </tbody>\n",
       "</table>\n",
       "</div>"
      ],
      "text/plain": [
       "     Adj Close  Overall Weight Rank  Period 1 Return  Period 1 Return Rank  \\\n",
       "SHY  84.940002                    1         0.002572                     2   \n",
       "VNQ  79.550003                    2         0.029669                     1   \n",
       "REM  10.410000                    3        -0.019356                     3   \n",
       "\n",
       "     Period 2 Return  Period 2 Return Rank   Std Dev  Std Dev Rank  \n",
       "SHY         0.002927                     1  0.062228             1  \n",
       "VNQ        -0.017344                     2  1.843746             3  \n",
       "REM        -0.075414                     3  0.216362             2  "
      ]
     },
     "execution_count": 8,
     "metadata": {},
     "output_type": "execute_result"
    }
   ],
   "source": [
    "# Real Estate Model\n",
    "cluster_table(portfolio['real estate'])"
   ]
  },
  {
   "cell_type": "code",
   "execution_count": 9,
   "metadata": {
    "collapsed": false
   },
   "outputs": [
    {
     "data": {
      "text/html": [
       "<div>\n",
       "<table border=\"1\" class=\"dataframe\">\n",
       "  <thead>\n",
       "    <tr style=\"text-align: right;\">\n",
       "      <th></th>\n",
       "      <th>Adj Close</th>\n",
       "      <th>Overall Weight Rank</th>\n",
       "      <th>Period 1 Return</th>\n",
       "      <th>Period 1 Return Rank</th>\n",
       "      <th>Period 2 Return</th>\n",
       "      <th>Period 2 Return Rank</th>\n",
       "      <th>Std Dev</th>\n",
       "      <th>Std Dev Rank</th>\n",
       "    </tr>\n",
       "  </thead>\n",
       "  <tbody>\n",
       "    <tr>\n",
       "      <th>TLT</th>\n",
       "      <td>123.209999</td>\n",
       "      <td>1</td>\n",
       "      <td>0.068356</td>\n",
       "      <td>1</td>\n",
       "      <td>-0.045284</td>\n",
       "      <td>3</td>\n",
       "      <td>0.865552</td>\n",
       "      <td>2</td>\n",
       "    </tr>\n",
       "    <tr>\n",
       "      <th>SHY</th>\n",
       "      <td>84.940002</td>\n",
       "      <td>2</td>\n",
       "      <td>0.002572</td>\n",
       "      <td>3</td>\n",
       "      <td>0.002927</td>\n",
       "      <td>1</td>\n",
       "      <td>0.062228</td>\n",
       "      <td>1</td>\n",
       "    </tr>\n",
       "    <tr>\n",
       "      <th>GLD</th>\n",
       "      <td>111.309998</td>\n",
       "      <td>3</td>\n",
       "      <td>0.005147</td>\n",
       "      <td>2</td>\n",
       "      <td>-0.027351</td>\n",
       "      <td>2</td>\n",
       "      <td>1.409318</td>\n",
       "      <td>3</td>\n",
       "    </tr>\n",
       "  </tbody>\n",
       "</table>\n",
       "</div>"
      ],
      "text/plain": [
       "      Adj Close  Overall Weight Rank  Period 1 Return  Period 1 Return Rank  \\\n",
       "TLT  123.209999                    1         0.068356                     1   \n",
       "SHY   84.940002                    2         0.002572                     3   \n",
       "GLD  111.309998                    3         0.005147                     2   \n",
       "\n",
       "     Period 2 Return  Period 2 Return Rank   Std Dev  Std Dev Rank  \n",
       "TLT        -0.045284                     3  0.865552             2  \n",
       "SHY         0.002927                     1  0.062228             1  \n",
       "GLD        -0.027351                     2  1.409318             3  "
      ]
     },
     "execution_count": 9,
     "metadata": {},
     "output_type": "execute_result"
    }
   ],
   "source": [
    "# Econ Stress Model\n",
    "cluster_table(portfolio['stress'])"
   ]
  },
  {
   "cell_type": "code",
   "execution_count": null,
   "metadata": {
    "collapsed": false
   },
   "outputs": [],
   "source": []
  },
  {
   "cell_type": "code",
   "execution_count": null,
   "metadata": {
    "collapsed": true
   },
   "outputs": [],
   "source": []
  }
 ],
 "metadata": {
  "kernelspec": {
   "display_name": "Python 3",
   "language": "python",
   "name": "python3"
  },
  "language_info": {
   "codemirror_mode": {
    "name": "ipython",
    "version": 3
   },
   "file_extension": ".py",
   "mimetype": "text/x-python",
   "name": "python",
   "nbconvert_exporter": "python",
   "pygments_lexer": "ipython3",
   "version": "3.4.2"
  }
 },
 "nbformat": 4,
 "nbformat_minor": 0
}
