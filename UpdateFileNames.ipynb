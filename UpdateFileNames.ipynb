{
 "cells": [
  {
   "cell_type": "markdown",
   "id": "60c97542-408d-4fa2-b2f9-41f18dc3312d",
   "metadata": {
    "tags": []
   },
   "source": [
    "Just some utility code for renaming files in my blog"
   ]
  },
  {
   "cell_type": "code",
   "execution_count": null,
   "id": "c2c1dc28-c6eb-4af7-846c-721805c00c4d",
   "metadata": {},
   "outputs": [],
   "source": [
    "import os\n",
    "import re\n",
    "POST_DIR = '/home/jovyan/work/content/snapshots'\n",
    "IMG_DIR = '/home/jovyan/work/images/snapshots'"
   ]
  },
  {
   "cell_type": "code",
   "execution_count": null,
   "id": "3c375846-92bc-4fe1-8ae3-78ca5ad4a767",
   "metadata": {},
   "outputs": [],
   "source": [
    "for file in os.listdir(POST_DIR):\n",
    "    filename = os.fsdecode(file)\n",
    "    if not filename.endswith('.md'):\n",
    "        continue\n",
    "    filepath = os.path.join(str(POST_DIR), str(filename))\n",
    "    post_date = filename.rstrip('-photo-post.md')\n",
    "    post_date = '.'.join(post_date.split('-'))\n",
    "    new_filename = post_date + '.md'\n",
    "    os.rename(f\"{POST_DIR}/{filename}\", f\"{POST_DIR}/{new_filename}\")"
   ]
  },
  {
   "cell_type": "code",
   "execution_count": null,
   "id": "ce478519-1e60-4d9b-a40d-b6810ec59ace",
   "metadata": {
    "tags": []
   },
   "outputs": [],
   "source": [
    "filename_list = []    \n",
    "for file in os.listdir(POST_DIR):\n",
    "    filename = os.fsdecode(file)\n",
    "    if not filename.endswith('.md'):\n",
    "        continue\n",
    "    filepath = os.path.join(str(POST_DIR), str(filename))\n",
    "    with open(filepath) as fh:\n",
    "        content = ''.join(fh.readlines())\n",
    "        match = re.search(r'snapshots\\/(.*)\\.jpg', content)\n",
    "        if match:\n",
    "            filename_list.append((match.group(1), filename.rstrip('-photo-post.md')))"
   ]
  },
  {
   "cell_type": "code",
   "execution_count": null,
   "id": "66f92d9a-c0ae-46e6-89fe-b0ce5cd4ea18",
   "metadata": {},
   "outputs": [],
   "source": [
    "with open('file_hash.csv', 'w') as fh:\n",
    "    for item in filename_list:\n",
    "        fh.write(','.join(item))\n",
    "        fh.write('\\n')"
   ]
  },
  {
   "cell_type": "code",
   "execution_count": null,
   "id": "5ee7282e-6e21-48bc-b861-47dcd99b216b",
   "metadata": {},
   "outputs": [],
   "source": [
    "hash_lookup = {}\n",
    "with open('file_hash.csv', 'r') as fh:\n",
    "    for line in fh:\n",
    "        h, d = line.split(',')\n",
    "        date = d.replace('-','.').strip()\n",
    "        hash_lookup[h] = date"
   ]
  },
  {
   "cell_type": "code",
   "execution_count": null,
   "id": "9fbdbc79-4a0d-49a6-bddc-a70ef8ed1ed9",
   "metadata": {},
   "outputs": [],
   "source": [
    "filename_list = []    \n",
    "for file in os.listdir(POST_DIR):\n",
    "    filename = os.fsdecode(file)\n",
    "    if not filename.endswith('.md'):\n",
    "        continue\n",
    "    filepath = os.path.join(str(POST_DIR), str(filename))\n",
    "    with open(filepath, 'r+') as fh:\n",
    "        content = '\\n'.join([line.strip() in fh])\n",
    "        for k,v in hash_lookup.items():\n",
    "            content = content.replace(k,v)\n",
    "        fh.seek(0)\n",
    "        fh.write(content)"
   ]
  },
  {
   "cell_type": "code",
   "execution_count": null,
   "id": "3206b7a8-a47f-4342-afc4-8a247c116ef1",
   "metadata": {},
   "outputs": [],
   "source": [
    "filename_list = []    \n",
    "for h, d in hash_lookup.items():\n",
    "    os.rename(f\"{IMG_DIR}/{h}.jpg\", f\"{IMG_DIR}/{d}.jpg\")"
   ]
  }
 ],
 "metadata": {
  "kernelspec": {
   "display_name": "Python 3 (ipykernel)",
   "language": "python",
   "name": "python3"
  },
  "language_info": {
   "codemirror_mode": {
    "name": "ipython",
    "version": 3
   },
   "file_extension": ".py",
   "mimetype": "text/x-python",
   "name": "python",
   "nbconvert_exporter": "python",
   "pygments_lexer": "ipython3",
   "version": "3.9.10"
  }
 },
 "nbformat": 4,
 "nbformat_minor": 5
}
